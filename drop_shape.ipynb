{
 "cells": [
  {
   "cell_type": "code",
   "execution_count": null,
   "metadata": {
    "collapsed": true
   },
   "outputs": [],
   "source": [
    "from matplotlib import pyplot as plt\n",
    "%matplotlib inline"
   ]
  },
  {
   "cell_type": "code",
   "execution_count": null,
   "metadata": {
    "collapsed": false
   },
   "outputs": [],
   "source": [
    "import numpy as np\n",
    "from math import radians, degrees\n",
    "import pandas as pd"
   ]
  },
  {
   "cell_type": "code",
   "execution_count": null,
   "metadata": {
    "collapsed": false
   },
   "outputs": [],
   "source": [
    "# 1-Butanol (g-mm-s):\n",
    "R = 18 # mm\n",
    "rho = 0.8098/1000 # g/mm^3\n",
    "g = 9.81*1000 # mm/s^2\n",
    "sigma = 24.93 # g/s^2\n",
    "delta = 1e-9\n",
    "h = 0.001 # step"
   ]
  },
  {
   "cell_type": "code",
   "execution_count": null,
   "metadata": {
    "collapsed": false
   },
   "outputs": [],
   "source": [
    "def f(s, y, R0):\n",
    "    return np.array((np.cos(y[1]), 2/R0-rho*g*y[2]/sigma-np.sin(y[1])/y[0], -np.sin(y[1])))"
   ]
  },
  {
   "cell_type": "code",
   "execution_count": null,
   "metadata": {
    "collapsed": true
   },
   "outputs": [],
   "source": [
    "def runge_kutta(R0):\n",
    "    y0 = np.array((R0*delta, delta, 0))\n",
    "    y = y0.copy()\n",
    "    sk = 0\n",
    "    while y0[0] < R:\n",
    "        sk += h\n",
    "        p1 = f(sk, y0, R0)\n",
    "        p2 = f(sk+h/2, y0+h*p1/2, R0)\n",
    "        p3 = f(sk+h/2, y0+h*p2/2, R0)\n",
    "        p4 = f(sk+h, y0+h*p3, R0)\n",
    "        y1 = np.copy(y0) + h*(p1 + 2*p2 + 2*p3 + p4)\n",
    "        y0 = y1\n",
    "        y = np.vstack((y, y0))  \n",
    "    s_max = sk\n",
    "    \n",
    "    return y, s_max"
   ]
  },
  {
   "cell_type": "code",
   "execution_count": null,
   "metadata": {
    "collapsed": true
   },
   "outputs": [],
   "source": [
    "def m_bisection(theta_0, R1, R2, eps):\n",
    "    R3 = (R1 + R2)/2\n",
    "    theta_1 = runge_kutta(R1)[0][-1][1]\n",
    "    theta_2 = runge_kutta(R2)[0][-1][1]\n",
    "    theta_3 = runge_kutta(R3)[0][-1][1]\n",
    "    while abs(degrees(theta_3 - theta_0)) > eps:\n",
    "        if (theta_3 < theta_0) and (theta_3 > theta_1):\n",
    "            R1 = R3\n",
    "        else:\n",
    "            R2 = R3\n",
    "        R3 = (R1 + R2)/2\n",
    "        theta_3 = runge_kutta(R3)[0][-1][1]\n",
    "    return R3, degrees(theta_3)"
   ]
  },
  {
   "cell_type": "code",
   "execution_count": null,
   "metadata": {
    "collapsed": false
   },
   "outputs": [],
   "source": [
    "R0, theta = m_bisection(radians(30), 15, 48000, 2)\n",
    "R0, theta"
   ]
  },
  {
   "cell_type": "code",
   "execution_count": null,
   "metadata": {
    "collapsed": true
   },
   "outputs": [],
   "source": [
    "y = runge_kutta(R0)"
   ]
  },
  {
   "cell_type": "code",
   "execution_count": null,
   "metadata": {
    "collapsed": false,
    "scrolled": true
   },
   "outputs": [],
   "source": [
    "# r(z)\n",
    "plt.plot(y[0][:, 2], y[0][:, 0])"
   ]
  },
  {
   "cell_type": "code",
   "execution_count": null,
   "metadata": {
    "collapsed": true
   },
   "outputs": [],
   "source": [
    "def bond_number(h0, R, theta):\n",
    "    return rho*g*h0*R/(2*sigma*np.sin(theta))"
   ]
  },
  {
   "cell_type": "code",
   "execution_count": null,
   "metadata": {
    "collapsed": false,
    "scrolled": false
   },
   "outputs": [],
   "source": [
    "bond_number(abs(y[0][-1][2]), y[0][-1][0], y[0][-1][1])"
   ]
  },
  {
   "cell_type": "code",
   "execution_count": null,
   "metadata": {
    "collapsed": false
   },
   "outputs": [],
   "source": [
    "def m_simpson(y, a, b, n):\n",
    "    m = 0\n",
    "    hs = (b - a)/(2*n)\n",
    "    s = (y[a][0]**2)*np.sin(y[a][1]) + 4*(y[a+hs*(2*n-1)][0]**2)*np.sin(y[a+hs*(2*n-1)][1]) + (y[b][0]**2)*np.sin(y[b][1])\n",
    "    for i in range(1, n):\n",
    "        s += 2*(y[a+hs*(2*i)][0]**2)*np.sin(y[a+hs*(2*i)][1]) + 4*(y[a+hs*(2*i-1)][0]**2)*np.sin(y[a+hs*(2*i-1)][1])\n",
    "    return np.pi*rho*hs*s/3"
   ]
  },
  {
   "cell_type": "code",
   "execution_count": null,
   "metadata": {
    "collapsed": false,
    "scrolled": false
   },
   "outputs": [],
   "source": [
    "m_simpson(y[0], 0, y[1], 10)"
   ]
  },
  {
   "cell_type": "code",
   "execution_count": null,
   "metadata": {
    "collapsed": false,
    "scrolled": false
   },
   "outputs": [],
   "source": [
    "x = np.column_stack((np.ones(len(y[0])/4+1), np.arange(1, len(y[0])/4+1), y[0][::4,2], y[0][::4,0], np.zeros(len(y[0])/4+1)))"
   ]
  },
  {
   "cell_type": "code",
   "execution_count": null,
   "metadata": {
    "collapsed": false
   },
   "outputs": [],
   "source": [
    "df = pd.DataFrame(data=x)\n",
    "df"
   ]
  },
  {
   "cell_type": "code",
   "execution_count": null,
   "metadata": {
    "collapsed": false
   },
   "outputs": [],
   "source": [
    "np.savetxt(r'drop_shape.txt', df, fmt='%f', newline='\\r\\n', delimiter='\\t')"
   ]
  },
  {
   "cell_type": "code",
   "execution_count": null,
   "metadata": {
    "collapsed": false
   },
   "outputs": [],
   "source": [
    "plt.plot(df[2], df[3])"
   ]
  }
 ],
 "metadata": {
  "kernelspec": {
   "display_name": "Python 3",
   "language": "python",
   "name": "python3"
  },
  "language_info": {
   "codemirror_mode": {
    "name": "ipython",
    "version": 3
   },
   "file_extension": ".py",
   "mimetype": "text/x-python",
   "name": "python",
   "nbconvert_exporter": "python",
   "pygments_lexer": "ipython3",
   "version": "3.6.0"
  }
 },
 "nbformat": 4,
 "nbformat_minor": 2
}
